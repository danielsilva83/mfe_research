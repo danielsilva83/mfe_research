{
 "cells": [
  {
   "cell_type": "code",
   "execution_count": null,
   "metadata": {},
   "outputs": [],
   "source": [
    "!pip3 install -U ucimlrepo "
   ]
  },
  {
   "cell_type": "code",
   "execution_count": null,
   "metadata": {},
   "outputs": [],
   "source": [
    "%load_ext autoreload\n",
    "%autoreload 2"
   ]
  },
  {
   "cell_type": "code",
   "execution_count": null,
   "metadata": {},
   "outputs": [],
   "source": [
    "from ucimlrepo import fetch_ucirepo, list_available_datasets,list_available_datasets1\n",
    "\n",
    "import pprint\n",
    "list_available_datasets()\n",
    "list = list_available_datasets1()"
   ]
  },
  {
   "cell_type": "code",
   "execution_count": null,
   "metadata": {},
   "outputs": [],
   "source": [
    "import os\n",
    "import pandas as pd\n",
    "from ucimlrepo import fetch_ucirepo\n",
    "\n",
    "# Diretório para salvar os datasets\n",
    "save_dir = '/home/daniel/source/uci/datasets'\n",
    "\n",
    "# Loop pelos datasets\n",
    "for lista in list[0:100]:\n",
    "    print(lista)\n",
    "\n",
    "    # Importa o dataset\n",
    "    heart_disease = fetch_ucirepo(id=lista)\n",
    "    # Alternativamente: fetch_ucirepo(name='Heart Disease')\n",
    "\n",
    "    # Acessa os dados\n",
    "    #x = heart_disease.data.features\n",
    "    #y = heart_disease.data.targets\n",
    "    z = heart_disease.data.original\n",
    "\n",
    "    # Converte para DataFrames do pandas\n",
    "    #x_df = pd.DataFrame(x, columns=heart_disease.feature_names)\n",
    "    #y_df = pd.DataFrame(y, columns=['Target'])\n",
    "    z_df = pd.DataFrame(z, columns=heart_disease.target_names)\n",
    "\n",
    "    # Cria o diretório se não existir\n",
    "    os.makedirs(save_dir, exist_ok=True)\n",
    "\n",
    "    # Salva os DataFrames como CSV\n",
    "    #x_df.to_csv(os.path.join(save_dir, f\"{lista}_features.csv\"), index=False)\n",
    "    #y_df.to_csv(os.path.join(save_dir, f\"{lista}_targets.csv\"), index=False)\n",
    "    z_df.to_csv(os.path.join(save_dir, f\"{lista}_original.csv\"), index=False)"
   ]
  }
 ],
 "metadata": {
  "language_info": {
   "name": "python"
  }
 },
 "nbformat": 4,
 "nbformat_minor": 2
}
